{
  "nbformat": 4,
  "nbformat_minor": 0,
  "metadata": {
    "colab": {
      "name": "Internship Scrapper.ipynb",
      "provenance": []
    },
    "kernelspec": {
      "name": "python3",
      "display_name": "Python 3"
    },
    "language_info": {
      "name": "python"
    }
  },
  "cells": [
    {
      "cell_type": "code",
      "execution_count": null,
      "metadata": {
        "id": "6xitZ8HvbRfd"
      },
      "outputs": [],
      "source": [
        "from bs4 import BeautifulSoup\n",
        "import urllib\n",
        "import requests\n",
        "import pandas as pd\n",
        "from pprint import pprint\n",
        "from google.colab import drive"
      ]
    },
    {
      "cell_type": "code",
      "source": [
        "drive.mount('/drive')"
      ],
      "metadata": {
        "colab": {
          "base_uri": "https://localhost:8080/"
        },
        "id": "MLlBaNTtTYp4",
        "outputId": "84414b43-05a9-468d-aa13-dd7ffc414758"
      },
      "execution_count": null,
      "outputs": [
        {
          "output_type": "stream",
          "name": "stdout",
          "text": [
            "Mounted at /drive\n"
          ]
        }
      ]
    },
    {
      "cell_type": "code",
      "source": [
        "def get_job_information(job_soup):\n",
        "  \n",
        "  title_soup = job_soup.find(class_='jobTitle')\n",
        "  title = title_soup.text.strip()\n",
        "\n",
        "  company_soup = job_soup.find(class_='companyName')\n",
        "  company = company_soup.text.strip()\n",
        "\n",
        "  location_soup = job_soup.find(class_='companyLocation')\n",
        "  location = location_soup.text.strip()\n",
        "\n",
        "  try:\n",
        "    rating_soup = job_soup.find(class_='ratingNumber')\n",
        "    rating = rating_soup.get(\"aria-label\").split()[0]\n",
        "  except: \n",
        "    rating = 'No reported rating'\n",
        "\n",
        "  try:\n",
        "    salary_soup = job_soup.find(class_ = 'estimated-salary')\n",
        "    salary = salary_soup.text.strip()\n",
        "  except:\n",
        "    salary = 'No reported salary'\n",
        "\n",
        "  link_soup = job_soup.find('a', class_='jcs-JobTitle')\n",
        "  link = 'www.indeed.com' + link_soup.get(\"href\") if link_soup.get(\"href\")[0:4] == '/rc/' else 'www.indeed.com/viewjob?jk=' + link_soup.get('data-jk')\n",
        "\n",
        "  new_job = {\n",
        "      'Applied' : 'no',\n",
        "      'Title' : title,\n",
        "      'Company' : company,\n",
        "      'Location' : location,\n",
        "      'Rating' : rating,\n",
        "      'Salary' : salary,\n",
        "      'Link' : link\n",
        "  }\n",
        "  return new_job"
      ],
      "metadata": {
        "id": "Oq-QB5mwEI-K"
      },
      "execution_count": null,
      "outputs": []
    },
    {
      "cell_type": "code",
      "source": [
        "def get_dates_posted(jobs_soup):\n",
        "  date_soup = jobs_soup.find_all('span', class_=\"date\")\n",
        "  dates_posted = []\n",
        "  for date in date_soup:\n",
        "    stripped = date.text.strip()[6:-8].replace(\" \", \"\")\n",
        "    only_number = \"\"\n",
        "    for char in stripped:\n",
        "      if char.isdigit():\n",
        "       only_number += char\n",
        "    only_number += '+' if int(only_number) == 30 else \"\"\n",
        "    dates_posted.append(only_number)\n",
        "  #print(dates_posted)\n",
        "  return dates_posted"
      ],
      "metadata": {
        "id": "elvnmjphnNoA"
      },
      "execution_count": null,
      "outputs": []
    },
    {
      "cell_type": "code",
      "source": [
        "def indeed_search(job_title, location, path):\n",
        "\n",
        "  if job_title == \"\":\n",
        "    job_title = \"Data Scientist Intern\"\n",
        "  if location == \"\":\n",
        "    location = \"Boston, MA\"\n",
        "\n",
        "  columns = [\"Applied\", \"Title\", \"Company\", \"Location\", \"Rating\", \"Salary\", \"Link\"]\n",
        "  jobs = pd.DataFrame(columns=columns)\n",
        "\n",
        "  url_header = 'https://www.indeed.com/jobs?'\n",
        "  parameters = urllib.parse.urlencode({\n",
        "      'q' : job_title,\n",
        "      'l' : location\n",
        "  })\n",
        "  print(\"Searching for jobs at the following link:\", url_header + parameters)\n",
        "  page = requests.get(url= url_header + parameters).content\n",
        "  \n",
        "  page_soup = BeautifulSoup(page, \"html.parser\")\n",
        "  jobs_soup = page_soup.find(id=\"resultsCol\")\n",
        "  job_listings = jobs_soup.find_all(class_=\"resultContent\")\n",
        "  for job in job_listings:\n",
        "    jobs.loc[len(jobs)] = get_job_information(job)\n",
        "  \n",
        "  jobs[\"Dates Posted\"] = get_dates_posted(jobs_soup)\n",
        "  \n",
        "\n",
        "  folder_path = '/drive/My Drive/Colab Notebooks/Internship Scrapper/' + path\n",
        "  try:\n",
        "    pd.read_csv(folder_path).append(jobs).drop_duplicates().to_csv(folder_path, index=False)\n",
        "    print(\"Putting \" + str(len(jobs)) + \" into the file \" + path)\n",
        "  except:\n",
        "    print(\"Creating CSV\")\n",
        "    jobs.to_csv(folder_path, index = False)\n",
        "  return jobs"
      ],
      "metadata": {
        "id": "ZFdHGS4MdJD-"
      },
      "execution_count": null,
      "outputs": []
    },
    {
      "cell_type": "code",
      "source": [
        "job_title = input(\"What Job? \")\n",
        "job_location = input(\"Location? \")\n",
        "path = 'Internships.csv'\n",
        "job_list = indeed_search(job_title, job_location, path)\n",
        "print(job_list)"
      ],
      "metadata": {
        "colab": {
          "base_uri": "https://localhost:8080/"
        },
        "id": "bcOnKkS3lxPH",
        "outputId": "bc43d48a-80a6-4192-95e6-8f7da48c8ba3"
      },
      "execution_count": null,
      "outputs": [
        {
          "output_type": "stream",
          "name": "stdout",
          "text": [
            "What Job? \n",
            "Location? \n",
            "Searching for jobs at the following link: https://www.indeed.com/jobs?q=Data+Scientist+Intern&l=Boston%2C+MA\n",
            "Putting 14 into the file Internships.csv\n",
            "   Applied                                              Title  \\\n",
            "0       no                           newData Scientist Intern   \n",
            "1       no                         Lead Data Scientist Intern   \n",
            "2       no                   Machine Learning Intern (Remote)   \n",
            "3       no                                Data Science Intern   \n",
            "4       no  Internship - Data Science and Machine Learning...   \n",
            "5       no  Data Science & Artificial Intelligence (DxS) I...   \n",
            "6       no         Graduate Student Intern - Machine Learning   \n",
            "7       no                               AI Engineer (Intern)   \n",
            "8       no          Summer Intern: Acorn AI Labs Data Science   \n",
            "9       no    Computational Biology - Machine Learning Intern   \n",
            "10      no  Research Intern - Machine Learning, Statistics...   \n",
            "11      no  Internship: Data-Driven Optimization for Build...   \n",
            "12      no          Data Science Engineer - Summer Internship   \n",
            "13      no               Internship: Quantum Machine Learning   \n",
            "\n",
            "                              Company  \\\n",
            "0           Mimecast Services Limited   \n",
            "1                       Iron Mountain   \n",
            "2                     Julia Computing   \n",
            "3                              Sophos   \n",
            "4     Boston Public Health Commission   \n",
            "5     AstraZeneca Pharmaceuticals Inc   \n",
            "6                           LaunchBay   \n",
            "7                  Schneider Electric   \n",
            "8                  Medidata Solutions   \n",
            "9                      Precidiag Inc.   \n",
            "10                          Microsoft   \n",
            "11  Mitsubishi Electric Research Labs   \n",
            "12                  SS&C Technologies   \n",
            "13  Mitsubishi Electric Research Labs   \n",
            "\n",
            "                                          Location              Rating  \\\n",
            "0                              Lexington, MA 02421  No reported rating   \n",
            "1     Boston, MA 02133 (Back Bay-Beacon Hill area)                 3.6   \n",
            "2                             Remote in Boston, MA  No reported rating   \n",
            "3                             Burlington, MA 01803  No reported rating   \n",
            "4             Boston, MA 02118 (South Boston area)                 3.9   \n",
            "5                      Remote in Waltham, MA 02451                 4.1   \n",
            "6                        North Billerica, MA 01862  No reported rating   \n",
            "7                             Foxborough, MA 02035                 3.9   \n",
            "8                Boston, MA 02116 (South End area)                 3.6   \n",
            "9                 Watertown, MA 02472 (Bemis area)  No reported rating   \n",
            "10                                   Cambridge, MA                 4.2   \n",
            "11   Cambridge, MA 02139 (Area IV area)+1 location                 4.4   \n",
            "12                                     Waltham, MA                 3.2   \n",
            "13  Cambridge, MA 02139 (The Port area)+1 location                 4.4   \n",
            "\n",
            "                              Salary  \\\n",
            "0   Estimated $50.3K - $63.7K a year   \n",
            "1                 No reported salary   \n",
            "2   Estimated $41.9K - $53.1K a year   \n",
            "3                 No reported salary   \n",
            "4   Estimated $36.2K - $45.8K a year   \n",
            "5                 No reported salary   \n",
            "6   Estimated $46.8K - $59.2K a year   \n",
            "7                 No reported salary   \n",
            "8     Estimated $42K - $53.2K a year   \n",
            "9                 No reported salary   \n",
            "10                No reported salary   \n",
            "11  Estimated $38.7K - $49.1K a year   \n",
            "12                No reported salary   \n",
            "13  Estimated $39.9K - $50.5K a year   \n",
            "\n",
            "                                                 Link Dates Posted  \n",
            "0   www.indeed.com/rc/clk?jk=df6a84e4a1007cf5&fcci...            4  \n",
            "1   www.indeed.com/rc/clk?jk=7fbb9ca02f84fa8a&fcci...          30+  \n",
            "2          www.indeed.com/viewjob?jk=e32f139116ae1b79           19  \n",
            "3   www.indeed.com/rc/clk?jk=fd14c1569a960eea&fcci...          30+  \n",
            "4   www.indeed.com/rc/clk?jk=79c7b83a4baec630&fcci...           24  \n",
            "5   www.indeed.com/rc/clk?jk=de8d35446e80c190&fcci...          30+  \n",
            "6   www.indeed.com/rc/clk?jk=dc582b1e2a238c0f&fcci...          30+  \n",
            "7   www.indeed.com/rc/clk?jk=490e79beb61c1b8c&fcci...          30+  \n",
            "8   www.indeed.com/rc/clk?jk=d387d42cffba42dd&fcci...          30+  \n",
            "9          www.indeed.com/viewjob?jk=5f2b3a5c4bc9d68d            3  \n",
            "10  www.indeed.com/rc/clk?jk=617ba1f73d92e640&fcci...          30+  \n",
            "11         www.indeed.com/viewjob?jk=0377c83c67ab5940          30+  \n",
            "12  www.indeed.com/rc/clk?jk=c9da1c2fd89d9320&fcci...          30+  \n",
            "13  www.indeed.com/rc/clk?jk=3b4e3897f0779398&fcci...          30+  \n"
          ]
        }
      ]
    }
  ]
}